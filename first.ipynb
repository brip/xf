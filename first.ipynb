{
 "nbformat": 4,
 "nbformat_minor": 2,
 "metadata": {
  "language_info": {
   "name": "python",
   "codemirror_mode": {
    "name": "ipython",
    "version": 3
   }
  },
  "orig_nbformat": 2,
  "file_extension": ".py",
  "mimetype": "text/x-python",
  "name": "python",
  "npconvert_exporter": "python",
  "pygments_lexer": "ipython3",
  "version": 3
 },
 "cells": [
  {
   "cell_type": "code",
   "execution_count": 1,
   "metadata": {},
   "outputs": [
    {
     "name": "stdout",
     "output_type": "stream",
     "text": "Brijesh\n41\n"
    }
   ],
   "source": [
    "(name,age)=\"Brijesh,41\".split(\",\")\n",
    "print(name)\n",
    "print(age)"
   ]
  },
  {
   "cell_type": "code",
   "execution_count": 7,
   "metadata": {},
   "outputs": [
    {
     "name": "stdout",
     "output_type": "stream",
     "text": "Key 1:Key 06\nKey 2:Key 05\nKey 3:Key 04\nKey 4:Key 03\nKey 5:Key 02\nKey 6:Key 01\n"
    }
   ],
   "source": [
    "bag = {}\n",
    "bag[\"Key 1\"] = \"Key 06\"\n",
    "bag[\"Key 2\"] = \"Key 05\"\n",
    "bag[\"Key 3\"] = \"Key 04\"\n",
    "bag[\"Key 4\"] = \"Key 03\"\n",
    "bag[\"Key 5\"] = \"Key 02\"\n",
    "bag[\"Key 6\"] = \"Key 01\"\n",
    "\n",
    "for key in bag:\n",
    "    print(key + \":\" + bag[key])\n"
   ]
  },
  {
   "cell_type": "code",
   "execution_count": null,
   "metadata": {},
   "outputs": [],
   "source": []
  }
 ]
}