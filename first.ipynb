{
 "nbformat": 4,
 "nbformat_minor": 2,
 "metadata": {
  "language_info": {
   "name": "python",
   "codemirror_mode": {
    "name": "ipython",
    "version": 3
   },
   "version": "3.8.2-final"
  },
  "orig_nbformat": 2,
  "file_extension": ".py",
  "mimetype": "text/x-python",
  "name": "python",
  "npconvert_exporter": "python",
  "pygments_lexer": "ipython3",
  "version": 3,
  "kernelspec": {
   "name": "python38232bit37328138201e44599b47d68a1ec6ee40",
   "display_name": "Python 3.8.2 32-bit"
  }
 },
 "cells": [
  {
   "cell_type": "code",
   "execution_count": 1,
   "metadata": {},
   "outputs": [
    {
     "name": "stdout",
     "output_type": "stream",
     "text": "Brijesh\n41\n"
    }
   ],
   "source": [
    "(name,age)=\"Brijesh,41\".split(\",\")\n",
    "print(name)\n",
    "print(age)"
   ]
  },
  {
   "cell_type": "code",
   "execution_count": 4,
   "metadata": {},
   "outputs": [
    {
     "name": "stdout",
     "output_type": "stream",
     "text": "Key 1:Key 06\nKey 2:Key 05\nKey 3:Key 04\nKey 4:Key 03\nKey 5:Key 02\nKey 6:Key 01\nKey 6:Key 01\nKey 5:Key 02\nKey 4:Key 03\nKey 3:Key 04\nKey 2:Key 05\nKey 1:Key 06\n"
    }
   ],
   "source": [
    "import operator\n",
    "import collections\n",
    "bag = {}\n",
    "bag[\"Key 1\"] = \"Key 06\"\n",
    "bag[\"Key 2\"] = \"Key 05\"\n",
    "bag[\"Key 3\"] = \"Key 04\"\n",
    "bag[\"Key 4\"] = \"Key 03\"\n",
    "bag[\"Key 5\"] = \"Key 02\"\n",
    "bag[\"Key 6\"] = \"Key 01\"\n",
    "\n",
    "for key in bag:\n",
    "    print(key + \":\" + bag[key])\n",
    "\n",
    "sorted_x = sorted(bag.items(), key=operator.itemgetter(1))\n",
    "\n",
    "sorted_bag = collections.OrderedDict(sorted_x)\n",
    "for key in sorted_bag:\n",
    "    print(key + \":\" + sorted_bag[key])\n"
   ]
  },
  {
   "cell_type": "code",
   "execution_count": null,
   "metadata": {},
   "outputs": [],
   "source": []
  }
 ]
}